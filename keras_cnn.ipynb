{
  "nbformat": 4,
  "nbformat_minor": 0,
  "metadata": {
    "colab": {
      "name": "keras_cnn.ipynb",
      "provenance": [],
      "collapsed_sections": []
    },
    "kernelspec": {
      "name": "python3",
      "display_name": "Python 3"
    }
  },
  "cells": [
    {
      "cell_type": "markdown",
      "metadata": {
        "id": "R1bF1Z1whIoY",
        "colab_type": "text"
      },
      "source": [
        "# Keras CNN\n",
        "\n",
        "An example of a convolutional neural network using keras"
      ]
    },
    {
      "cell_type": "markdown",
      "metadata": {
        "id": "fUkwIRCPhUOA",
        "colab_type": "text"
      },
      "source": [
        "Import the libraries"
      ]
    },
    {
      "cell_type": "code",
      "metadata": {
        "id": "X9GcjuE5hRia",
        "colab_type": "code",
        "colab": {}
      },
      "source": [
        "import keras\n",
        "from keras.models import Sequential\n",
        "from keras.layers import Dense\n",
        "from keras.utils import to_categorical\n",
        "from keras.layers.convolutional import Conv2D # to add convolutional layers\n",
        "from keras.layers.convolutional import MaxPooling2D # to add pooling layers\n",
        "from keras.layers import Flatten # to flatten data for fully connected layers"
      ],
      "execution_count": 1,
      "outputs": []
    },
    {
      "cell_type": "markdown",
      "metadata": {
        "id": "Nu8jSi0ehkX-",
        "colab_type": "text"
      },
      "source": [
        "We are gonna use the MNIST dataset"
      ]
    },
    {
      "cell_type": "code",
      "metadata": {
        "id": "Ohdlw8BQhebX",
        "colab_type": "code",
        "colab": {
          "base_uri": "https://localhost:8080/",
          "height": 51
        },
        "outputId": "aedb92d3-f607-4198-eef9-8a4c70a49604"
      },
      "source": [
        "# import data\n",
        "from keras.datasets import mnist\n",
        "\n",
        "# load data\n",
        "(X_train, y_train), (X_test, y_test) = mnist.load_data()\n",
        "\n",
        "# reshape to be [samples][pixels][width][height]\n",
        "X_train = X_train.reshape(X_train.shape[0], 28, 28, 1).astype('float32')\n",
        "X_test = X_test.reshape(X_test.shape[0], 28, 28, 1).astype('float32')"
      ],
      "execution_count": 2,
      "outputs": [
        {
          "output_type": "stream",
          "text": [
            "Downloading data from https://storage.googleapis.com/tensorflow/tf-keras-datasets/mnist.npz\n",
            "11493376/11490434 [==============================] - 1s 0us/step\n"
          ],
          "name": "stdout"
        }
      ]
    },
    {
      "cell_type": "markdown",
      "metadata": {
        "id": "7ptAvqW-iH0d",
        "colab_type": "text"
      },
      "source": [
        "As usual we normalize the input data"
      ]
    },
    {
      "cell_type": "code",
      "metadata": {
        "id": "eHdqdyx9hq7A",
        "colab_type": "code",
        "colab": {}
      },
      "source": [
        "X_train = X_train / 255 \n",
        "X_test = X_test / 255 "
      ],
      "execution_count": 3,
      "outputs": []
    },
    {
      "cell_type": "markdown",
      "metadata": {
        "id": "CbBtycK9iWFT",
        "colab_type": "text"
      },
      "source": [
        "And convert the output target values into binary categories"
      ]
    },
    {
      "cell_type": "code",
      "metadata": {
        "id": "itQY7xAKiRo2",
        "colab_type": "code",
        "colab": {}
      },
      "source": [
        "y_train = to_categorical(y_train)\n",
        "y_test = to_categorical(y_test)\n",
        "\n",
        "num_classes = y_test.shape[1]"
      ],
      "execution_count": 4,
      "outputs": []
    },
    {
      "cell_type": "markdown",
      "metadata": {
        "id": "046ATxiYio8a",
        "colab_type": "text"
      },
      "source": [
        "With the data now ready we can define the model"
      ]
    },
    {
      "cell_type": "code",
      "metadata": {
        "id": "u_aSVK21ilDR",
        "colab_type": "code",
        "colab": {}
      },
      "source": [
        "def convolutional_model():\n",
        "    \n",
        "    # create model\n",
        "    model = Sequential()\n",
        "    model.add(Conv2D(16, (5, 5), strides=(1, 1), activation='relu', input_shape=(28, 28, 1)))\n",
        "    model.add(MaxPooling2D(pool_size=(2, 2), strides=(2, 2)))\n",
        "    \n",
        "    model.add(Flatten())\n",
        "    model.add(Dense(100, activation='relu'))\n",
        "    model.add(Dense(num_classes, activation='softmax'))\n",
        "    \n",
        "    # compile model\n",
        "    model.compile(optimizer='adam', loss='categorical_crossentropy',  metrics=['accuracy'])\n",
        "    return model"
      ],
      "execution_count": 5,
      "outputs": []
    },
    {
      "cell_type": "markdown",
      "metadata": {
        "id": "AaJnMsPcjICp",
        "colab_type": "text"
      },
      "source": [
        "And train it"
      ]
    },
    {
      "cell_type": "code",
      "metadata": {
        "id": "1ZZtzaXSjFQ3",
        "colab_type": "code",
        "colab": {
          "base_uri": "https://localhost:8080/",
          "height": 391
        },
        "outputId": "2e850e21-147a-4304-aaf3-ad136baaa9dc"
      },
      "source": [
        "# build the model\n",
        "model = convolutional_model()\n",
        "\n",
        "# fit the model\n",
        "model.fit(X_train, y_train, validation_data=(X_test, y_test), epochs=10, batch_size=200, verbose=2)\n",
        "\n",
        "# evaluate the model\n",
        "scores = model.evaluate(X_test, y_test, verbose=0)\n",
        "print(\"Accuracy: {} \\n Error: {}\".format(scores[1], 100-scores[1]*100))"
      ],
      "execution_count": 6,
      "outputs": [
        {
          "output_type": "stream",
          "text": [
            "Epoch 1/10\n",
            "300/300 - 17s - loss: 0.2834 - accuracy: 0.9211 - val_loss: 0.0894 - val_accuracy: 0.9740\n",
            "Epoch 2/10\n",
            "300/300 - 17s - loss: 0.0770 - accuracy: 0.9766 - val_loss: 0.0585 - val_accuracy: 0.9819\n",
            "Epoch 3/10\n",
            "300/300 - 17s - loss: 0.0545 - accuracy: 0.9831 - val_loss: 0.0509 - val_accuracy: 0.9831\n",
            "Epoch 4/10\n",
            "300/300 - 17s - loss: 0.0431 - accuracy: 0.9871 - val_loss: 0.0417 - val_accuracy: 0.9856\n",
            "Epoch 5/10\n",
            "300/300 - 17s - loss: 0.0353 - accuracy: 0.9894 - val_loss: 0.0367 - val_accuracy: 0.9878\n",
            "Epoch 6/10\n",
            "300/300 - 17s - loss: 0.0303 - accuracy: 0.9905 - val_loss: 0.0370 - val_accuracy: 0.9863\n",
            "Epoch 7/10\n",
            "300/300 - 17s - loss: 0.0245 - accuracy: 0.9926 - val_loss: 0.0351 - val_accuracy: 0.9881\n",
            "Epoch 8/10\n",
            "300/300 - 17s - loss: 0.0207 - accuracy: 0.9937 - val_loss: 0.0412 - val_accuracy: 0.9872\n",
            "Epoch 9/10\n",
            "300/300 - 17s - loss: 0.0179 - accuracy: 0.9948 - val_loss: 0.0434 - val_accuracy: 0.9858\n",
            "Epoch 10/10\n",
            "300/300 - 17s - loss: 0.0163 - accuracy: 0.9948 - val_loss: 0.0373 - val_accuracy: 0.9885\n",
            "Accuracy: 0.9884999990463257 \n",
            " Error: 1.1500000953674316\n"
          ],
          "name": "stdout"
        }
      ]
    },
    {
      "cell_type": "markdown",
      "metadata": {
        "id": "2RjJ5fiSkTZ9",
        "colab_type": "text"
      },
      "source": [
        "Adding a second set of convolutional and pooling layers"
      ]
    },
    {
      "cell_type": "code",
      "metadata": {
        "id": "dHM808SyjPLc",
        "colab_type": "code",
        "colab": {}
      },
      "source": [
        "def convolutional_model_v2():\n",
        "    \n",
        "    # create model\n",
        "    model = Sequential()\n",
        "    model.add(Conv2D(16, (5, 5), activation='relu', input_shape=(28, 28, 1)))\n",
        "    model.add(MaxPooling2D(pool_size=(2, 2), strides=(2, 2)))\n",
        "    \n",
        "    model.add(Conv2D(8, (2, 2), activation='relu'))\n",
        "    model.add(MaxPooling2D(pool_size=(2, 2), strides=(2, 2)))\n",
        "    \n",
        "    model.add(Flatten())\n",
        "    model.add(Dense(100, activation='relu'))\n",
        "    model.add(Dense(num_classes, activation='softmax'))\n",
        "    \n",
        "    # Compile model\n",
        "    model.compile(optimizer='adam', loss='categorical_crossentropy',  metrics=['accuracy'])\n",
        "    return model"
      ],
      "execution_count": 7,
      "outputs": []
    },
    {
      "cell_type": "markdown",
      "metadata": {
        "id": "dXTz114slIie",
        "colab_type": "text"
      },
      "source": [
        "And train again"
      ]
    },
    {
      "cell_type": "code",
      "metadata": {
        "id": "1CVNHcwHlH34",
        "colab_type": "code",
        "colab": {
          "base_uri": "https://localhost:8080/",
          "height": 391
        },
        "outputId": "70a55a49-a1ad-48be-c565-cb26d8a7f636"
      },
      "source": [
        "# build the model\n",
        "model = convolutional_model_v2()\n",
        "\n",
        "# fit the model\n",
        "model.fit(X_train, y_train, validation_data=(X_test, y_test), epochs=10, batch_size=200, verbose=2)\n",
        "\n",
        "# evaluate the model\n",
        "scores = model.evaluate(X_test, y_test, verbose=0)\n",
        "print(\"Accuracy: {} \\n Error: {}\".format(scores[1], 100-scores[1]*100))"
      ],
      "execution_count": 11,
      "outputs": [
        {
          "output_type": "stream",
          "text": [
            "Epoch 1/10\n",
            "300/300 - 19s - loss: 0.4619 - accuracy: 0.8673 - val_loss: 0.1279 - val_accuracy: 0.9611\n",
            "Epoch 2/10\n",
            "300/300 - 19s - loss: 0.1107 - accuracy: 0.9661 - val_loss: 0.0819 - val_accuracy: 0.9750\n",
            "Epoch 3/10\n",
            "300/300 - 19s - loss: 0.0815 - accuracy: 0.9755 - val_loss: 0.0687 - val_accuracy: 0.9768\n",
            "Epoch 4/10\n",
            "300/300 - 19s - loss: 0.0665 - accuracy: 0.9799 - val_loss: 0.0599 - val_accuracy: 0.9819\n",
            "Epoch 5/10\n",
            "300/300 - 19s - loss: 0.0564 - accuracy: 0.9826 - val_loss: 0.0492 - val_accuracy: 0.9839\n",
            "Epoch 6/10\n",
            "300/300 - 19s - loss: 0.0492 - accuracy: 0.9851 - val_loss: 0.0440 - val_accuracy: 0.9852\n",
            "Epoch 7/10\n",
            "300/300 - 19s - loss: 0.0444 - accuracy: 0.9863 - val_loss: 0.0429 - val_accuracy: 0.9862\n",
            "Epoch 8/10\n",
            "300/300 - 19s - loss: 0.0390 - accuracy: 0.9880 - val_loss: 0.0417 - val_accuracy: 0.9872\n",
            "Epoch 9/10\n",
            "300/300 - 19s - loss: 0.0366 - accuracy: 0.9885 - val_loss: 0.0398 - val_accuracy: 0.9870\n",
            "Epoch 10/10\n",
            "300/300 - 19s - loss: 0.0335 - accuracy: 0.9896 - val_loss: 0.0388 - val_accuracy: 0.9871\n",
            "Accuracy: 0.9871000051498413 \n",
            " Error: 1.2899994850158691\n"
          ],
          "name": "stdout"
        }
      ]
    },
    {
      "cell_type": "markdown",
      "metadata": {
        "id": "CQv-ElEFnT--",
        "colab_type": "text"
      },
      "source": [
        "And finally ading a third set "
      ]
    },
    {
      "cell_type": "code",
      "metadata": {
        "id": "-T7p9JjklQiT",
        "colab_type": "code",
        "colab": {}
      },
      "source": [
        "def convolutional_model_v3():\n",
        "    \n",
        "    # create model\n",
        "    model = Sequential()\n",
        "    model.add(Conv2D(16, (5, 5), activation='relu', input_shape=(28, 28, 1)))\n",
        "    model.add(MaxPooling2D(pool_size=(2, 2), strides=(2, 2)))\n",
        "    \n",
        "    model.add(Conv2D(8, (2, 2), activation='relu'))\n",
        "    model.add(MaxPooling2D(pool_size=(2, 2), strides=(2, 2)))\n",
        "\n",
        "    model.add(Conv2D(4, (2, 2), activation='relu'))\n",
        "    model.add(MaxPooling2D(pool_size=(2, 2), strides=(1, 1)))\n",
        "    \n",
        "    model.add(Flatten())\n",
        "    model.add(Dense(100, activation='relu'))\n",
        "    model.add(Dense(num_classes, activation='softmax'))\n",
        "    \n",
        "    # Compile model\n",
        "    model.compile(optimizer='adam', loss='categorical_crossentropy',  metrics=['accuracy'])\n",
        "    return model"
      ],
      "execution_count": 18,
      "outputs": []
    },
    {
      "cell_type": "code",
      "metadata": {
        "id": "YgNazRE3nr3W",
        "colab_type": "code",
        "colab": {
          "base_uri": "https://localhost:8080/",
          "height": 391
        },
        "outputId": "56b69372-d2d0-4923-fd60-95c9b1918937"
      },
      "source": [
        "# build the model\n",
        "model = convolutional_model_v3()\n",
        "\n",
        "# fit the model\n",
        "model.fit(X_train, y_train, validation_data=(X_test, y_test), epochs=10, batch_size=200, verbose=2)\n",
        "\n",
        "# evaluate the model\n",
        "scores = model.evaluate(X_test, y_test, verbose=0)\n",
        "print(\"Accuracy: {} \\n Error: {}\".format(scores[1], 100-scores[1]*100))"
      ],
      "execution_count": 19,
      "outputs": [
        {
          "output_type": "stream",
          "text": [
            "Epoch 1/10\n",
            "300/300 - 19s - loss: 0.8343 - accuracy: 0.7347 - val_loss: 0.2650 - val_accuracy: 0.9196\n",
            "Epoch 2/10\n",
            "300/300 - 19s - loss: 0.2320 - accuracy: 0.9292 - val_loss: 0.1824 - val_accuracy: 0.9459\n",
            "Epoch 3/10\n",
            "300/300 - 19s - loss: 0.1759 - accuracy: 0.9476 - val_loss: 0.1620 - val_accuracy: 0.9491\n",
            "Epoch 4/10\n",
            "300/300 - 19s - loss: 0.1518 - accuracy: 0.9549 - val_loss: 0.1379 - val_accuracy: 0.9578\n",
            "Epoch 5/10\n",
            "300/300 - 19s - loss: 0.1341 - accuracy: 0.9600 - val_loss: 0.1279 - val_accuracy: 0.9619\n",
            "Epoch 6/10\n",
            "300/300 - 19s - loss: 0.1232 - accuracy: 0.9628 - val_loss: 0.1127 - val_accuracy: 0.9652\n",
            "Epoch 7/10\n",
            "300/300 - 19s - loss: 0.1132 - accuracy: 0.9651 - val_loss: 0.1174 - val_accuracy: 0.9641\n",
            "Epoch 8/10\n",
            "300/300 - 19s - loss: 0.1043 - accuracy: 0.9682 - val_loss: 0.0923 - val_accuracy: 0.9728\n",
            "Epoch 9/10\n",
            "300/300 - 19s - loss: 0.0982 - accuracy: 0.9702 - val_loss: 0.0909 - val_accuracy: 0.9731\n",
            "Epoch 10/10\n",
            "300/300 - 19s - loss: 0.0919 - accuracy: 0.9721 - val_loss: 0.0858 - val_accuracy: 0.9736\n",
            "Accuracy: 0.9735999703407288 \n",
            " Error: 2.640002965927124\n"
          ],
          "name": "stdout"
        }
      ]
    },
    {
      "cell_type": "markdown",
      "metadata": {
        "id": "GurLcl3ToouP",
        "colab_type": "text"
      },
      "source": [
        "And one last modification\n",
        "\n",
        "\n"
      ]
    },
    {
      "cell_type": "code",
      "metadata": {
        "id": "y48AV9fHnx1h",
        "colab_type": "code",
        "colab": {}
      },
      "source": [
        "def convolutional_model_v4():\n",
        "    \n",
        "    # create model\n",
        "    model = Sequential()\n",
        "    model.add(Conv2D(16, (6, 6), activation='relu', input_shape=(28, 28, 1)))\n",
        "    model.add(MaxPooling2D(pool_size=(2, 2), strides=(2, 2)))\n",
        "    \n",
        "    model.add(Conv2D(8, (2, 2), activation='relu'))\n",
        "    model.add(MaxPooling2D(pool_size=(2, 2), strides=(2, 2)))\n",
        "    \n",
        "    model.add(Flatten())\n",
        "    model.add(Dense(100, activation='relu'))\n",
        "    model.add(Dense(num_classes, activation='softmax'))\n",
        "    \n",
        "    # Compile model\n",
        "    model.compile(optimizer='adam', loss='categorical_crossentropy',  metrics=['accuracy'])\n",
        "    return model"
      ],
      "execution_count": 16,
      "outputs": []
    },
    {
      "cell_type": "code",
      "metadata": {
        "id": "68iTOMgko5dk",
        "colab_type": "code",
        "colab": {
          "base_uri": "https://localhost:8080/",
          "height": 391
        },
        "outputId": "563f8de4-5b69-45e0-9488-f1ad1ee175c7"
      },
      "source": [
        "# build the model\n",
        "model = convolutional_model_v4()\n",
        "\n",
        "# fit the model\n",
        "model.fit(X_train, y_train, validation_data=(X_test, y_test), epochs=10, batch_size=200, verbose=2)\n",
        "\n",
        "# evaluate the model\n",
        "scores = model.evaluate(X_test, y_test, verbose=0)\n",
        "print(\"Accuracy: {} \\n Error: {}\".format(scores[1], 100-scores[1]*100))"
      ],
      "execution_count": 17,
      "outputs": [
        {
          "output_type": "stream",
          "text": [
            "Epoch 1/10\n",
            "300/300 - 21s - loss: 0.4582 - accuracy: 0.8737 - val_loss: 0.1154 - val_accuracy: 0.9663\n",
            "Epoch 2/10\n",
            "300/300 - 21s - loss: 0.1056 - accuracy: 0.9684 - val_loss: 0.0764 - val_accuracy: 0.9759\n",
            "Epoch 3/10\n",
            "300/300 - 21s - loss: 0.0757 - accuracy: 0.9777 - val_loss: 0.0590 - val_accuracy: 0.9808\n",
            "Epoch 4/10\n",
            "300/300 - 21s - loss: 0.0608 - accuracy: 0.9817 - val_loss: 0.0478 - val_accuracy: 0.9843\n",
            "Epoch 5/10\n",
            "300/300 - 21s - loss: 0.0515 - accuracy: 0.9841 - val_loss: 0.0534 - val_accuracy: 0.9845\n",
            "Epoch 6/10\n",
            "300/300 - 21s - loss: 0.0456 - accuracy: 0.9862 - val_loss: 0.0357 - val_accuracy: 0.9875\n",
            "Epoch 7/10\n",
            "300/300 - 21s - loss: 0.0397 - accuracy: 0.9880 - val_loss: 0.0388 - val_accuracy: 0.9874\n",
            "Epoch 8/10\n",
            "300/300 - 21s - loss: 0.0379 - accuracy: 0.9890 - val_loss: 0.0338 - val_accuracy: 0.9886\n",
            "Epoch 9/10\n",
            "300/300 - 20s - loss: 0.0324 - accuracy: 0.9904 - val_loss: 0.0313 - val_accuracy: 0.9893\n",
            "Epoch 10/10\n",
            "300/300 - 21s - loss: 0.0305 - accuracy: 0.9909 - val_loss: 0.0325 - val_accuracy: 0.9892\n",
            "Accuracy: 0.9891999959945679 \n",
            " Error: 1.080000400543213\n"
          ],
          "name": "stdout"
        }
      ]
    },
    {
      "cell_type": "code",
      "metadata": {
        "id": "l1DzOV6Wo8iz",
        "colab_type": "code",
        "colab": {}
      },
      "source": [
        ""
      ],
      "execution_count": null,
      "outputs": []
    }
  ]
}